{
 "cells": [
  {
   "cell_type": "code",
   "execution_count": 43,
   "id": "89877173-030d-4409-815b-e1bae8265eed",
   "metadata": {},
   "outputs": [],
   "source": [
    "import pandas as pd"
   ]
  },
  {
   "cell_type": "code",
   "execution_count": 4,
   "id": "85ae7696-f684-4b70-a5ff-a130013dca83",
   "metadata": {},
   "outputs": [
    {
     "data": {
      "text/html": [
       "<div>\n",
       "<style scoped>\n",
       "    .dataframe tbody tr th:only-of-type {\n",
       "        vertical-align: middle;\n",
       "    }\n",
       "\n",
       "    .dataframe tbody tr th {\n",
       "        vertical-align: top;\n",
       "    }\n",
       "\n",
       "    .dataframe thead th {\n",
       "        text-align: right;\n",
       "    }\n",
       "</style>\n",
       "<table border=\"1\" class=\"dataframe\">\n",
       "  <thead>\n",
       "    <tr style=\"text-align: right;\">\n",
       "      <th></th>\n",
       "      <th>Colliers Subdistrict</th>\n",
       "      <th>District</th>\n",
       "      <th>Subdistrict</th>\n",
       "      <th>Street</th>\n",
       "    </tr>\n",
       "  </thead>\n",
       "  <tbody>\n",
       "    <tr>\n",
       "      <th>0</th>\n",
       "      <td>ავლაბარი</td>\n",
       "      <td>ძველი თბილისი</td>\n",
       "      <td>ავლაბარი</td>\n",
       "      <td>300 არაგველის ქ.</td>\n",
       "    </tr>\n",
       "    <tr>\n",
       "      <th>1</th>\n",
       "      <td>ავლაბარი</td>\n",
       "      <td>ძველი თბილისი</td>\n",
       "      <td>ავლაბარი</td>\n",
       "      <td>ავლაბრის ქ.</td>\n",
       "    </tr>\n",
       "    <tr>\n",
       "      <th>2</th>\n",
       "      <td>ავლაბარი</td>\n",
       "      <td>ძველი თბილისი</td>\n",
       "      <td>ავლაბარი</td>\n",
       "      <td>ალადაშვილის ქ.</td>\n",
       "    </tr>\n",
       "    <tr>\n",
       "      <th>3</th>\n",
       "      <td>ავლაბარი</td>\n",
       "      <td>ძველი თბილისი</td>\n",
       "      <td>ავლაბარი</td>\n",
       "      <td>ალაზნის ქ.</td>\n",
       "    </tr>\n",
       "    <tr>\n",
       "      <th>4</th>\n",
       "      <td>ავლაბარი</td>\n",
       "      <td>ძველი თბილისი</td>\n",
       "      <td>ავლაბარი</td>\n",
       "      <td>ალიხანიანის ქ.</td>\n",
       "    </tr>\n",
       "    <tr>\n",
       "      <th>...</th>\n",
       "      <td>...</td>\n",
       "      <td>...</td>\n",
       "      <td>...</td>\n",
       "      <td>...</td>\n",
       "    </tr>\n",
       "    <tr>\n",
       "      <th>1532</th>\n",
       "      <td>სოლოლაკი</td>\n",
       "      <td>ძველი თბილისი</td>\n",
       "      <td>სოლოლაკი</td>\n",
       "      <td>შავთელის ქ.</td>\n",
       "    </tr>\n",
       "    <tr>\n",
       "      <th>1533</th>\n",
       "      <td>სოლოლაკი</td>\n",
       "      <td>ძველი თბილისი</td>\n",
       "      <td>სოლოლაკი</td>\n",
       "      <td>შარდენის ქ.</td>\n",
       "    </tr>\n",
       "    <tr>\n",
       "      <th>1534</th>\n",
       "      <td>სოლოლაკი</td>\n",
       "      <td>ძველი თბილისი</td>\n",
       "      <td>სოლოლაკი</td>\n",
       "      <td>ჩახრუხაძის ქ.</td>\n",
       "    </tr>\n",
       "    <tr>\n",
       "      <th>1535</th>\n",
       "      <td>სოლოლაკი</td>\n",
       "      <td>ძველი თბილისი</td>\n",
       "      <td>სოლოლაკი</td>\n",
       "      <td>ხოდაშენის ქ.</td>\n",
       "    </tr>\n",
       "    <tr>\n",
       "      <th>1536</th>\n",
       "      <td>სოლოლაკი</td>\n",
       "      <td>ძველი თბილისი</td>\n",
       "      <td>სოლოლაკი</td>\n",
       "      <td>ჯიბლაძის ქ.</td>\n",
       "    </tr>\n",
       "  </tbody>\n",
       "</table>\n",
       "<p>1537 rows × 4 columns</p>\n",
       "</div>"
      ],
      "text/plain": [
       "     Colliers Subdistrict       District Subdistrict            Street\n",
       "0                ავლაბარი  ძველი თბილისი    ავლაბარი  300 არაგველის ქ.\n",
       "1                ავლაბარი  ძველი თბილისი    ავლაბარი       ავლაბრის ქ.\n",
       "2                ავლაბარი  ძველი თბილისი    ავლაბარი    ალადაშვილის ქ.\n",
       "3                ავლაბარი  ძველი თბილისი    ავლაბარი        ალაზნის ქ.\n",
       "4                ავლაბარი  ძველი თბილისი    ავლაბარი    ალიხანიანის ქ.\n",
       "...                   ...            ...         ...               ...\n",
       "1532             სოლოლაკი  ძველი თბილისი    სოლოლაკი       შავთელის ქ.\n",
       "1533             სოლოლაკი  ძველი თბილისი    სოლოლაკი       შარდენის ქ.\n",
       "1534             სოლოლაკი  ძველი თბილისი    სოლოლაკი     ჩახრუხაძის ქ.\n",
       "1535             სოლოლაკი  ძველი თბილისი    სოლოლაკი      ხოდაშენის ქ.\n",
       "1536             სოლოლაკი  ძველი თბილისი    სოლოლაკი       ჯიბლაძის ქ.\n",
       "\n",
       "[1537 rows x 4 columns]"
      ]
     },
     "execution_count": 4,
     "metadata": {},
     "output_type": "execute_result"
    }
   ],
   "source": [
    "df"
   ]
  },
  {
   "cell_type": "code",
   "execution_count": 47,
   "id": "d983832e-6703-40fc-91cd-f8de0f1c038a",
   "metadata": {},
   "outputs": [],
   "source": [
    "local = []"
   ]
  },
  {
   "cell_type": "code",
   "execution_count": 48,
   "id": "c3bba121-937f-4d58-8027-fce43ebc7776",
   "metadata": {},
   "outputs": [],
   "source": [
    "for i in df[\"Street\"]:\n",
    "    local.append(i)"
   ]
  },
  {
   "cell_type": "code",
   "execution_count": 49,
   "id": "01d1713b-19a2-4cb8-a699-cbed46c35a62",
   "metadata": {},
   "outputs": [
    {
     "data": {
      "text/plain": [
       "['13 ასურელი მამის ქ.',\n",
       " '17 შინდისელი გმირის ქ.',\n",
       " '26 მაისის მოედანი.',\n",
       " '26 მაისის ქ.',\n",
       " '300 არაგველის ქ.',\n",
       " '4000 მესხის ქ.',\n",
       " '8 მარტის ქ.',\n",
       " '9 აპრილის ქ.',\n",
       " 'I კვარტალი - დიღმის მასივი',\n",
       " 'I კვარტალი - ვაჟა ფშაველა']"
      ]
     },
     "execution_count": 49,
     "metadata": {},
     "output_type": "execute_result"
    }
   ],
   "source": [
    "sorted(local)[:10]"
   ]
  },
  {
   "cell_type": "code",
   "execution_count": 58,
   "id": "19f814a9-1dec-49c5-8d4f-ff8bd6e6e1db",
   "metadata": {},
   "outputs": [],
   "source": [
    "local.sort()"
   ]
  },
  {
   "cell_type": "code",
   "execution_count": 83,
   "id": "aa8f3a76-4d09-4a63-a737-f7a83e67891c",
   "metadata": {},
   "outputs": [],
   "source": [
    "from sitkva.models import *"
   ]
  },
  {
   "cell_type": "code",
   "execution_count": 94,
   "id": "39efd24d-a92d-4243-bd07-6a40ae1fb223",
   "metadata": {},
   "outputs": [],
   "source": [
    "db_streets = []\n",
    "for i in Street.query.all():\n",
    "    db_streets.append(i.name)\n",
    "    \n"
   ]
  },
  {
   "cell_type": "code",
   "execution_count": 95,
   "id": "1d13dc6e-0824-4ec0-b5dd-b709206d6081",
   "metadata": {},
   "outputs": [],
   "source": [
    "db_streets.sort()\n",
    "db_streets = db_streets[1:]"
   ]
  },
  {
   "cell_type": "code",
   "execution_count": 96,
   "id": "4721b094-560a-4d9f-9249-245e3859f5c4",
   "metadata": {},
   "outputs": [
    {
     "data": {
      "text/plain": [
       "['13 ასურელი მამის ქ.',\n",
       " '17 შინდისელი გმირის ქ.',\n",
       " '26 მაისის მოედანი.',\n",
       " '26 მაისის ქ.',\n",
       " '300 არაგველის ქ.',\n",
       " '4000 მესხის ქ.',\n",
       " '8 მარტის ქ.',\n",
       " '9 აპრილის ქ.',\n",
       " 'I კვარტალი - დიღმის მასივი',\n",
       " 'I კვარტალი - ვაჟა ფშაველა']"
      ]
     },
     "execution_count": 96,
     "metadata": {},
     "output_type": "execute_result"
    }
   ],
   "source": [
    "db_streets[:10]"
   ]
  },
  {
   "cell_type": "code",
   "execution_count": 100,
   "id": "3711dc62-3ee2-4984-8728-1a906c80ab42",
   "metadata": {},
   "outputs": [],
   "source": [
    "df = df.sort_values(by=[\"Street\"])"
   ]
  },
  {
   "cell_type": "code",
   "execution_count": 122,
   "id": "14dff014-c214-45a7-bfe5-c1d744c56fd4",
   "metadata": {},
   "outputs": [
    {
     "name": "stdout",
     "output_type": "stream",
     "text": [
      "ქუჩა   ლოკალი    ქოლიერსი\n",
      "აბულაძის ქ.ისანი-სამგორი---ვაკე-საბურთალო\n",
      "აფხაზეთის ქ.ისანი-სამგორი---დიდუბე-ჩუღურეთი\n",
      "ბარათაშვილის ქ.გლდანი-ნაძალადევი---ძველი თბილისი\n",
      "ბოჭორიშვილის ქ.ვაკე-საბურთალო---გლდანი-ნაძალადევი\n",
      "გ.ტაბიძის ქ.ძველი თბილისი---გლდანი-ნაძალადევი\n",
      "გაბაშვილის ქ.ვაკე-საბურთალო---გლდანი-ნაძალადევი\n",
      "გახოკიძის ქ.ვაკე-საბურთალო---ისანი-სამგორი\n",
      "გურიის ქ.გლდანი-ნაძალადევი---ძველი თბილისი\n",
      "დიდგორის ქ.ვაკე-საბურთალო---ისანი-სამგორი\n",
      "დიდგორის ქ.ვაკე-საბურთალო---გლდანი-ნაძალადევი\n",
      "თამარ მეფის ქ.ვაკე-საბურთალო---ისანი-სამგორი\n",
      "ილორის ქ.ისანი-სამგორი---გლდანი-ნაძალადევი\n",
      "კანდელაკის ქ.ვაკე-საბურთალო---გლდანი-ნაძალადევი\n",
      "კოსტავას ქ.ვაკე-საბურთალო---ძველი თბილისი\n",
      "ლევან რჩეულიშვილის ქ.ვაკე-საბურთალო---გლდანი-ნაძალადევი\n",
      "ლეონიძის ქ.გლდანი-ნაძალადევი---ძველი თბილისი\n",
      "მაისურაძის ქ.ისანი-სამგორი---გლდანი-ნაძალადევი\n",
      "მარჯანიშვილის ქ.გლდანი-ნაძალადევი---დიდუბე-ჩუღურეთი\n",
      "მშვიდობის ქ.ისანი-სამგორი---გლდანი-ნაძალადევი\n",
      "ონის ქ.გლდანი-ნაძალადევი---ძველი თბილისი\n",
      "სოხუმის ქ.ისანი-სამგორი---დიდუბე-ჩუღურეთი\n",
      "სტურუას ქ.ისანი-სამგორი---გლდანი-ნაძალადევი\n",
      "ტარიელის ქ.ვაკე-საბურთალო---ძველი თბილისი\n",
      "ღოღობერიძის ქ.ისანი-სამგორი---გლდანი-ნაძალადევი\n",
      "ყაზბეგის ქ.ვაკე-საბურთალო---გლდანი-ნაძალადევი\n",
      "შ.მიქატაძის ქ.გლდანი-ნაძალადევი---დიდუბე-ჩუღურეთი\n",
      "შენგელიას ქ.გლდანი-ნაძალადევი---ძველი თბილისი\n",
      "ცუცქირიძის ქ.დიდუბე-ჩუღურეთი---ძველი თბილისი\n",
      "ხერხეულიძეების ქ.გლდანი-ნაძალადევი---ძველი თბილისი\n"
     ]
    }
   ],
   "source": [
    "fails = []\n",
    "print(\"ქუჩა   ლოკალი    ქოლიერსი\")\n",
    "for i,row in df.iterrows():\n",
    "    st = Street.query.filter(Street.name == row[\"Street\"]).first()\n",
    "    if st.subdistrict.district.name != row[\"District\"]:\n",
    "        fails.append(i)\n",
    "        \n",
    "        print(row[\"Street\"]+st.subdistrict.district.name+\"---\"+row[\"District\"])\n",
    "    "
   ]
  },
  {
   "cell_type": "code",
   "execution_count": 123,
   "id": "5c972df6-fb61-4fac-8119-3044b3b9f0cb",
   "metadata": {},
   "outputs": [],
   "source": [
    "from sitkva.models import Flat"
   ]
  },
  {
   "cell_type": "code",
   "execution_count": 124,
   "id": "d0909056-304f-4062-8032-382d17645758",
   "metadata": {},
   "outputs": [],
   "source": [
    "flats = Flat.query.all()"
   ]
  },
  {
   "cell_type": "code",
   "execution_count": 138,
   "id": "f5543f77-624f-485e-9964-b902238cd923",
   "metadata": {},
   "outputs": [],
   "source": [
    "tmp_projects = []\n",
    "tmp_modelling = []\n",
    "for fl in flats:\n",
    "    tmp_projects.append(fl.project)\n",
    "    tmp_modelling.append(fl.state)"
   ]
  },
  {
   "cell_type": "code",
   "execution_count": 139,
   "id": "c34bdb90-cc93-4e47-a866-1c887792d35a",
   "metadata": {},
   "outputs": [],
   "source": [
    "modelling_arr = pd.array(tmp_modelling, dtype=str)\n",
    "projects_arr = pd.array(tmp_projects, dtype=str)"
   ]
  },
  {
   "cell_type": "code",
   "execution_count": 144,
   "id": "92440c86-0a0e-4114-bf24-4e32be008830",
   "metadata": {},
   "outputs": [
    {
     "data": {
      "text/plain": [
       "<PandasArray>\n",
       "[                                         'ძველი რემონტით',\n",
       "                                          'ახალი რემონტით',\n",
       "                                           'გარემონტებული',\n",
       "                                           'თეთრი კარკასი',\n",
       "                                          'მწვანე კარკასი',\n",
       "                                            'შავი კარკასი',\n",
       "                                                 'NO_INFO',\n",
       "                                       'მიმდინარე რემონტი',\n",
       "                                               'სარემონტო',\n",
       "                              'შავი კარკასი,თეთრი კარკასი',\n",
       "               'შავი კარკასი,თეთრი კარკასი,მწვანე კარკასი',\n",
       "                            'თეთრი კარკასი,მწვანე კარკასი',\n",
       "                             'თეთრი კარკასი,გარემონტებული',\n",
       " 'შავი კარკასი,თეთრი კარკასი,მწვანე კარკასი,გარემონტებული',\n",
       "                             'შავი კარკასი,მწვანე კარკასი',\n",
       "                                         'პრემიუმ კარკასი',\n",
       "                                           'თბილი კარკასი',\n",
       "                            'მწვანე კარკასი,გარემონტებული',\n",
       "                'შავი კარკასი,თეთრი კარკასი,გარემონტებული']\n",
       "Length: 19, dtype: str1760"
      ]
     },
     "execution_count": 144,
     "metadata": {},
     "output_type": "execute_result"
    }
   ],
   "source": [
    "modelling_arr.uniqe()"
   ]
  },
  {
   "cell_type": "code",
   "execution_count": 145,
   "id": "e34c7a40-e94a-42d2-b205-089d55f070d5",
   "metadata": {},
   "outputs": [
    {
     "data": {
      "text/plain": [
       "<PandasArray>\n",
       "['არასტანდარტული',        'NO_INFO',    'ყავლაშვილის',  'თბილისური ეზო',\n",
       "       'ქალაქური',         'ჩეხური',      'ხრუშჩოვის',       'მოსკოვის',\n",
       "         'ლვოვის',       'დუპლექსი',    'ლენინგრადის',      'თუხარელის',\n",
       "    'იუგოსლავიის',         'ვეძისი',    'მეტრომშენის',          'კიევი',\n",
       "         'სხვენი',       'ტრიპექსი']\n",
       "Length: 18, dtype: str448"
      ]
     },
     "execution_count": 145,
     "metadata": {},
     "output_type": "execute_result"
    }
   ],
   "source": [
    "projects_arr.unique()"
   ]
  },
  {
   "cell_type": "code",
   "execution_count": 147,
   "id": "807c3d5c-4bd7-4ca4-80e0-b7969bf2e9d9",
   "metadata": {},
   "outputs": [],
   "source": [
    "modelling = {\n",
    "    \"მწვანე კარკასი\" : \"თეთრი კარკასი\",\n",
    "    \"თეთრი კარკასი\" : \"თეთრი კარკასი\",\n",
    "    \"თბილი კარკასი\" : \"თეთრი კარკასი\",\n",
    "    \"პრემიუმ კარკასი\" : \"თეთრი კარკასი\",\n",
    "    \"ძველი რემონტით\" : \"ძველი რემონტი\",\n",
    "    \"ძველი რემონტი\" : \"ძველი რემონტი\",\n",
    "    \"ახალი რემონტი\" : \"ახალი რემონტი\",\n",
    "    \"ახალი რემონტით\" : \"ახალი რემონტი\",\n",
    "    \"გარემონტებული\" : \"ახალი რემონტი\",\n",
    "    \"შავი კარკასი\" : \"შავი კარკასი\",\n",
    "    \"მიმდინარე რემონტი\" : \"მიმდინარე რემონტით\",\n",
    "    \"მიმდინარე რემონტი\" : \"მიმდინარე რემონტი\",\n",
    "    \"სარემონტო\" : \"სარემონტო\",\n",
    "    \"NO_INFO\" : \"\"\n",
    "}"
   ]
  },
  {
   "cell_type": "code",
   "execution_count": 154,
   "id": "7030bdf1-4a91-493f-b501-ab0a4c25eec8",
   "metadata": {},
   "outputs": [],
   "source": [
    "projects = {\n",
    "    \"არასტანდარტული\" : \"არასტანდარტული\",\n",
    "    \"ქალაქური\" : \"ქალაქური\",\n",
    "    \"ლვოვის\" : \"ლვოვი\",\n",
    "    \"ლვოვი\" : \"ლვოვი\",\n",
    "    \"NO_INFO\" : \"უცნობი\",\n",
    "    \"ჩეხური\" : \"ჩეხური\",\n",
    "    \"დუპლექსი\" : \"დუპლექსი\",\n",
    "    \"ვეძისი\" : \"ვეძისი\",\n",
    "    \"ვეძისის\" : \"ვეძისი\",\n",
    "    \"ყავლაშვილის\" : \"ყავლაშვილი\",\n",
    "    \"ყავლაშვილი\" : \"ყავლაშვილი\",\n",
    "    \"ხრუშჩოვის\" : \"ხრუშჩოვი\",\n",
    "    \"ხრუშჩოვი\" : \"ხრუშჩოვი\",\n",
    "    \"მეტრომშენი\" : \"მეტრომშენი\",\n",
    "    \"მეტრომშენის\" : \"მეტრომშენი\",\n",
    "    \"თბილისური ეზო\" : \"თბილისური ეზო\",\n",
    "    \"მოსკოვის\" : \"მოსკოვი\",\n",
    "    \"მოსკოვი\" : \"მოსკოვი\",\n",
    "    \"თუხარელის\" : \"თუხარელი\",\n",
    "    \"თუხარელი\" : \"თუხარელის\"\n",
    "}"
   ]
  },
  {
   "cell_type": "code",
   "execution_count": 158,
   "id": "9e49785f-5d95-431d-b4e0-af752583f735",
   "metadata": {},
   "outputs": [],
   "source": [
    "pilot = pd.read_excel(\"PILOT.xlsx\")"
   ]
  },
  {
   "cell_type": "code",
   "execution_count": 168,
   "id": "6733461c-cbdf-4df2-b570-c7e338d17afd",
   "metadata": {},
   "outputs": [
    {
     "data": {
      "text/plain": [
       "27.65151345883181"
      ]
     },
     "execution_count": 168,
     "metadata": {},
     "output_type": "execute_result"
    }
   ],
   "source": [
    "pilot[\"Area\"].sum()/pilot[\"Rooms\"].sum()"
   ]
  },
  {
   "cell_type": "code",
   "execution_count": 169,
   "id": "c4d4401e-2afc-4f4e-b6c8-77bf89845ec1",
   "metadata": {},
   "outputs": [],
   "source": [
    "flats = Flat.query.all()"
   ]
  },
  {
   "cell_type": "code",
   "execution_count": 190,
   "id": "00f72a61-3e2d-442d-8784-fb58c4d5d0db",
   "metadata": {},
   "outputs": [],
   "source": [
    "####removing 0 or -1 in rooms\n",
    "\n",
    "missed_rooms = Flat.query.filter(Flat.rooms <= 0).all()\n",
    "\n",
    "from sitkva import db \n",
    "\n",
    "for rm in missed_rooms:\n",
    "    total_area = rm.total_area\n",
    "    rm.rooms = int(total_area / 27)\n",
    "    db.session.add(rm)\n",
    "    db.session.commit()"
   ]
  }
 ],
 "metadata": {
  "kernelspec": {
   "display_name": "Python 3",
   "language": "python",
   "name": "python3"
  },
  "language_info": {
   "codemirror_mode": {
    "name": "ipython",
    "version": 3
   },
   "file_extension": ".py",
   "mimetype": "text/x-python",
   "name": "python",
   "nbconvert_exporter": "python",
   "pygments_lexer": "ipython3",
   "version": "3.8.10"
  }
 },
 "nbformat": 4,
 "nbformat_minor": 5
}
